{
 "cells": [
  {
   "cell_type": "markdown",
   "metadata": {
    "slideshow": {
     "slide_type": "slide"
    }
   },
   "source": [
    "# Linear Regression Using `statsmodels`"
   ]
  },
  {
   "cell_type": "markdown",
   "metadata": {
    "slideshow": {
     "slide_type": "slide"
    }
   },
   "source": [
    "Manually creating the model matrix with numpy\n"
   ]
  },
  {
   "cell_type": "code",
   "execution_count": 1,
   "metadata": {
    "slideshow": {
     "slide_type": "fragment"
    }
   },
   "outputs": [],
   "source": [
    "import numpy as np\n",
    "\n",
    "def lm(X, y, intercept=True):\n",
    "    if intercept:\n",
    "        model_mat = np.column_stack((np.ones(X.shape[0], 1), X))\n",
    "    else:\n",
    "        model_mat = X\n",
    "    return np.linalg.lstsq(model_mat, y)\n"
   ]
  },
  {
   "cell_type": "markdown",
   "metadata": {
    "slideshow": {
     "slide_type": "slide"
    }
   },
   "source": [
    "## Not too bad. What if we need dummies?"
   ]
  },
  {
   "cell_type": "markdown",
   "metadata": {
    "slideshow": {
     "slide_type": "fragment"
    }
   },
   "source": [
    "Can still do with `pd.get_dummies`"
   ]
  },
  {
   "cell_type": "code",
   "execution_count": 2,
   "metadata": {
    "slideshow": {
     "slide_type": "fragment"
    }
   },
   "outputs": [
    {
     "data": {
      "text/html": [
       "<div>\n",
       "<style scoped>\n",
       "    .dataframe tbody tr th:only-of-type {\n",
       "        vertical-align: middle;\n",
       "    }\n",
       "\n",
       "    .dataframe tbody tr th {\n",
       "        vertical-align: top;\n",
       "    }\n",
       "\n",
       "    .dataframe thead th {\n",
       "        text-align: right;\n",
       "    }\n",
       "</style>\n",
       "<table border=\"1\" class=\"dataframe\">\n",
       "  <thead>\n",
       "    <tr style=\"text-align: right;\">\n",
       "      <th></th>\n",
       "      <th>HiTec</th>\n",
       "      <th>Hlth</th>\n",
       "      <th>Utils</th>\n",
       "    </tr>\n",
       "  </thead>\n",
       "  <tbody>\n",
       "    <tr>\n",
       "      <th>0</th>\n",
       "      <td>1</td>\n",
       "      <td>0</td>\n",
       "      <td>0</td>\n",
       "    </tr>\n",
       "    <tr>\n",
       "      <th>1</th>\n",
       "      <td>0</td>\n",
       "      <td>1</td>\n",
       "      <td>0</td>\n",
       "    </tr>\n",
       "    <tr>\n",
       "      <th>2</th>\n",
       "      <td>1</td>\n",
       "      <td>0</td>\n",
       "      <td>0</td>\n",
       "    </tr>\n",
       "    <tr>\n",
       "      <th>3</th>\n",
       "      <td>0</td>\n",
       "      <td>0</td>\n",
       "      <td>1</td>\n",
       "    </tr>\n",
       "  </tbody>\n",
       "</table>\n",
       "</div>"
      ],
      "text/plain": [
       "   HiTec  Hlth  Utils\n",
       "0      1     0      0\n",
       "1      0     1      0\n",
       "2      1     0      0\n",
       "3      0     0      1"
      ]
     },
     "execution_count": 2,
     "metadata": {},
     "output_type": "execute_result"
    }
   ],
   "source": [
    "import pandas as pd\n",
    "sectors = pd.Series(['HiTec', 'Hlth', 'HiTec', 'Utils'])\n",
    "pd.get_dummies(sectors)"
   ]
  },
  {
   "cell_type": "markdown",
   "metadata": {
    "slideshow": {
     "slide_type": "fragment"
    }
   },
   "source": [
    "Seems straightforward, though could get complicated with interaction terms, different contrast setups."
   ]
  },
  {
   "cell_type": "markdown",
   "metadata": {
    "slideshow": {
     "slide_type": "slide"
    }
   },
   "source": [
    "# How about regression results\n",
    "\n",
    "R-squared, coefficient estimates, SEs, confidence intervals"
   ]
  },
  {
   "cell_type": "markdown",
   "metadata": {
    "slideshow": {
     "slide_type": "fragment"
    }
   },
   "source": [
    "Time to start writing code!"
   ]
  },
  {
   "cell_type": "markdown",
   "metadata": {
    "slideshow": {
     "slide_type": "slide"
    }
   },
   "source": [
    "# `statsmodels` makes it easy"
   ]
  },
  {
   "cell_type": "code",
   "execution_count": 3,
   "metadata": {
    "slideshow": {
     "slide_type": "fragment"
    }
   },
   "outputs": [
    {
     "data": {
      "text/html": [
       "<table class=\"simpletable\">\n",
       "<caption>OLS Regression Results</caption>\n",
       "<tr>\n",
       "  <th>Dep. Variable:</th>        <td>ret_0_1_m</td>    <th>  R-squared:         </th>  <td>   0.008</td> \n",
       "</tr>\n",
       "<tr>\n",
       "  <th>Model:</th>                   <td>OLS</td>       <th>  Adj. R-squared:    </th>  <td>   0.008</td> \n",
       "</tr>\n",
       "<tr>\n",
       "  <th>Method:</th>             <td>Least Squares</td>  <th>  F-statistic:       </th>  <td>   151.1</td> \n",
       "</tr>\n",
       "<tr>\n",
       "  <th>Date:</th>             <td>Wed, 20 Nov 2019</td> <th>  Prob (F-statistic):</th>  <td>1.30e-34</td> \n",
       "</tr>\n",
       "<tr>\n",
       "  <th>Time:</th>                 <td>13:34:51</td>     <th>  Log-Likelihood:    </th>  <td>  15597.</td> \n",
       "</tr>\n",
       "<tr>\n",
       "  <th>No. Observations:</th>      <td> 19702</td>      <th>  AIC:               </th> <td>-3.119e+04</td>\n",
       "</tr>\n",
       "<tr>\n",
       "  <th>Df Residuals:</th>          <td> 19700</td>      <th>  BIC:               </th> <td>-3.117e+04</td>\n",
       "</tr>\n",
       "<tr>\n",
       "  <th>Df Model:</th>              <td>     1</td>      <th>                     </th>      <td> </td>    \n",
       "</tr>\n",
       "<tr>\n",
       "  <th>Covariance Type:</th>      <td>nonrobust</td>    <th>                     </th>      <td> </td>    \n",
       "</tr>\n",
       "</table>\n",
       "<table class=\"simpletable\">\n",
       "<tr>\n",
       "      <td></td>         <th>coef</th>     <th>std err</th>      <th>t</th>      <th>P>|t|</th>  <th>[0.025</th>    <th>0.975]</th>  \n",
       "</tr>\n",
       "<tr>\n",
       "  <th>Intercept</th> <td>    0.0073</td> <td>    0.002</td> <td>    4.554</td> <td> 0.000</td> <td>    0.004</td> <td>    0.010</td>\n",
       "</tr>\n",
       "<tr>\n",
       "  <th>smi</th>       <td>    0.0003</td> <td> 2.75e-05</td> <td>   12.294</td> <td> 0.000</td> <td>    0.000</td> <td>    0.000</td>\n",
       "</tr>\n",
       "</table>\n",
       "<table class=\"simpletable\">\n",
       "<tr>\n",
       "  <th>Omnibus:</th>       <td>3354.662</td> <th>  Durbin-Watson:     </th> <td>   1.881</td> \n",
       "</tr>\n",
       "<tr>\n",
       "  <th>Prob(Omnibus):</th>  <td> 0.000</td>  <th>  Jarque-Bera (JB):  </th> <td>32693.833</td>\n",
       "</tr>\n",
       "<tr>\n",
       "  <th>Skew:</th>           <td> 0.529</td>  <th>  Prob(JB):          </th> <td>    0.00</td> \n",
       "</tr>\n",
       "<tr>\n",
       "  <th>Kurtosis:</th>       <td> 9.222</td>  <th>  Cond. No.          </th> <td>    121.</td> \n",
       "</tr>\n",
       "</table><br/><br/>Warnings:<br/>[1] Standard Errors assume that the covariance matrix of the errors is correctly specified."
      ],
      "text/plain": [
       "<class 'statsmodels.iolib.summary.Summary'>\n",
       "\"\"\"\n",
       "                            OLS Regression Results                            \n",
       "==============================================================================\n",
       "Dep. Variable:              ret_0_1_m   R-squared:                       0.008\n",
       "Model:                            OLS   Adj. R-squared:                  0.008\n",
       "Method:                 Least Squares   F-statistic:                     151.1\n",
       "Date:                Wed, 20 Nov 2019   Prob (F-statistic):           1.30e-34\n",
       "Time:                        13:34:51   Log-Likelihood:                 15597.\n",
       "No. Observations:               19702   AIC:                        -3.119e+04\n",
       "Df Residuals:                   19700   BIC:                        -3.117e+04\n",
       "Df Model:                           1                                         \n",
       "Covariance Type:            nonrobust                                         \n",
       "==============================================================================\n",
       "                 coef    std err          t      P>|t|      [0.025      0.975]\n",
       "------------------------------------------------------------------------------\n",
       "Intercept      0.0073      0.002      4.554      0.000       0.004       0.010\n",
       "smi            0.0003   2.75e-05     12.294      0.000       0.000       0.000\n",
       "==============================================================================\n",
       "Omnibus:                     3354.662   Durbin-Watson:                   1.881\n",
       "Prob(Omnibus):                  0.000   Jarque-Bera (JB):            32693.833\n",
       "Skew:                           0.529   Prob(JB):                         0.00\n",
       "Kurtosis:                       9.222   Cond. No.                         121.\n",
       "==============================================================================\n",
       "\n",
       "Warnings:\n",
       "[1] Standard Errors assume that the covariance matrix of the errors is correctly specified.\n",
       "\"\"\""
      ]
     },
     "execution_count": 3,
     "metadata": {},
     "output_type": "execute_result"
    }
   ],
   "source": [
    "import statsmodels.formula.api as smf\n",
    "\n",
    "dat = pd.read_csv('starmine.csv', low_memory=False)\n",
    "m1 = smf.ols('ret_0_1_m ~ smi', data=dat).fit()\n",
    "m1.summary()"
   ]
  },
  {
   "cell_type": "markdown",
   "metadata": {
    "slideshow": {
     "slide_type": "slide"
    }
   },
   "source": [
    "# How about interaction terms?"
   ]
  },
  {
   "cell_type": "code",
   "execution_count": 4,
   "metadata": {
    "slideshow": {
     "slide_type": "fragment"
    }
   },
   "outputs": [
    {
     "data": {
      "text/html": [
       "<table class=\"simpletable\">\n",
       "<caption>OLS Regression Results</caption>\n",
       "<tr>\n",
       "  <th>Dep. Variable:</th>        <td>ret_0_1_m</td>    <th>  R-squared:         </th>  <td>   0.015</td> \n",
       "</tr>\n",
       "<tr>\n",
       "  <th>Model:</th>                   <td>OLS</td>       <th>  Adj. R-squared:    </th>  <td>   0.014</td> \n",
       "</tr>\n",
       "<tr>\n",
       "  <th>Method:</th>             <td>Least Squares</td>  <th>  F-statistic:       </th>  <td>   14.70</td> \n",
       "</tr>\n",
       "<tr>\n",
       "  <th>Date:</th>             <td>Wed, 20 Nov 2019</td> <th>  Prob (F-statistic):</th>  <td>1.51e-52</td> \n",
       "</tr>\n",
       "<tr>\n",
       "  <th>Time:</th>                 <td>13:34:51</td>     <th>  Log-Likelihood:    </th>  <td>  15675.</td> \n",
       "</tr>\n",
       "<tr>\n",
       "  <th>No. Observations:</th>      <td> 19702</td>      <th>  AIC:               </th> <td>-3.131e+04</td>\n",
       "</tr>\n",
       "<tr>\n",
       "  <th>Df Residuals:</th>          <td> 19680</td>      <th>  BIC:               </th> <td>-3.113e+04</td>\n",
       "</tr>\n",
       "<tr>\n",
       "  <th>Df Model:</th>              <td>    21</td>      <th>                     </th>      <td> </td>    \n",
       "</tr>\n",
       "<tr>\n",
       "  <th>Covariance Type:</th>      <td>nonrobust</td>    <th>                     </th>      <td> </td>    \n",
       "</tr>\n",
       "</table>\n",
       "<table class=\"simpletable\">\n",
       "<tr>\n",
       "           <td></td>              <th>coef</th>     <th>std err</th>      <th>t</th>      <th>P>|t|</th>  <th>[0.025</th>    <th>0.975]</th>  \n",
       "</tr>\n",
       "<tr>\n",
       "  <th>Intercept</th>           <td>   -0.0023</td> <td>    0.008</td> <td>   -0.277</td> <td> 0.782</td> <td>   -0.018</td> <td>    0.014</td>\n",
       "</tr>\n",
       "<tr>\n",
       "  <th>sector[T.Enrgy]</th>     <td>    0.0141</td> <td>    0.011</td> <td>    1.251</td> <td> 0.211</td> <td>   -0.008</td> <td>    0.036</td>\n",
       "</tr>\n",
       "<tr>\n",
       "  <th>sector[T.HiTec]</th>     <td>    0.0123</td> <td>    0.009</td> <td>    1.330</td> <td> 0.184</td> <td>   -0.006</td> <td>    0.030</td>\n",
       "</tr>\n",
       "<tr>\n",
       "  <th>sector[T.Hlth]</th>      <td>    0.0331</td> <td>    0.010</td> <td>    3.360</td> <td> 0.001</td> <td>    0.014</td> <td>    0.052</td>\n",
       "</tr>\n",
       "<tr>\n",
       "  <th>sector[T.Manuf]</th>     <td>   -0.0007</td> <td>    0.009</td> <td>   -0.071</td> <td> 0.943</td> <td>   -0.019</td> <td>    0.017</td>\n",
       "</tr>\n",
       "<tr>\n",
       "  <th>sector[T.Money]</th>     <td>    0.0303</td> <td>    0.009</td> <td>    3.320</td> <td> 0.001</td> <td>    0.012</td> <td>    0.048</td>\n",
       "</tr>\n",
       "<tr>\n",
       "  <th>sector[T.NoDur]</th>     <td>   -0.0015</td> <td>    0.010</td> <td>   -0.146</td> <td> 0.884</td> <td>   -0.021</td> <td>    0.018</td>\n",
       "</tr>\n",
       "<tr>\n",
       "  <th>sector[T.Other]</th>     <td>    0.0062</td> <td>    0.009</td> <td>    0.662</td> <td> 0.508</td> <td>   -0.012</td> <td>    0.024</td>\n",
       "</tr>\n",
       "<tr>\n",
       "  <th>sector[T.Shops]</th>     <td>   -0.0070</td> <td>    0.009</td> <td>   -0.748</td> <td> 0.455</td> <td>   -0.025</td> <td>    0.011</td>\n",
       "</tr>\n",
       "<tr>\n",
       "  <th>sector[T.Telcm]</th>     <td>    0.0265</td> <td>    0.012</td> <td>    2.264</td> <td> 0.024</td> <td>    0.004</td> <td>    0.049</td>\n",
       "</tr>\n",
       "<tr>\n",
       "  <th>sector[T.Utils]</th>     <td>    0.0114</td> <td>    0.012</td> <td>    0.926</td> <td> 0.355</td> <td>   -0.013</td> <td>    0.035</td>\n",
       "</tr>\n",
       "<tr>\n",
       "  <th>smi</th>                 <td>    0.0002</td> <td>    0.000</td> <td>    1.488</td> <td> 0.137</td> <td>-7.77e-05</td> <td>    0.001</td>\n",
       "</tr>\n",
       "<tr>\n",
       "  <th>smi:sector[T.Enrgy]</th> <td>-1.311e-05</td> <td>    0.000</td> <td>   -0.055</td> <td> 0.956</td> <td>   -0.000</td> <td>    0.000</td>\n",
       "</tr>\n",
       "<tr>\n",
       "  <th>smi:sector[T.HiTec]</th> <td>    0.0002</td> <td>    0.000</td> <td>    1.063</td> <td> 0.288</td> <td>   -0.000</td> <td>    0.001</td>\n",
       "</tr>\n",
       "<tr>\n",
       "  <th>smi:sector[T.Hlth]</th>  <td> -4.97e-05</td> <td>    0.000</td> <td>   -0.263</td> <td> 0.793</td> <td>   -0.000</td> <td>    0.000</td>\n",
       "</tr>\n",
       "<tr>\n",
       "  <th>smi:sector[T.Manuf]</th> <td>    0.0001</td> <td>    0.000</td> <td>    0.822</td> <td> 0.411</td> <td>   -0.000</td> <td>    0.000</td>\n",
       "</tr>\n",
       "<tr>\n",
       "  <th>smi:sector[T.Money]</th> <td>   -0.0002</td> <td>    0.000</td> <td>   -1.078</td> <td> 0.281</td> <td>   -0.001</td> <td>    0.000</td>\n",
       "</tr>\n",
       "<tr>\n",
       "  <th>smi:sector[T.NoDur]</th> <td>    0.0002</td> <td>    0.000</td> <td>    0.964</td> <td> 0.335</td> <td>   -0.000</td> <td>    0.001</td>\n",
       "</tr>\n",
       "<tr>\n",
       "  <th>smi:sector[T.Other]</th> <td> 9.117e-05</td> <td>    0.000</td> <td>    0.494</td> <td> 0.621</td> <td>   -0.000</td> <td>    0.000</td>\n",
       "</tr>\n",
       "<tr>\n",
       "  <th>smi:sector[T.Shops]</th> <td>    0.0002</td> <td>    0.000</td> <td>    0.969</td> <td> 0.333</td> <td>   -0.000</td> <td>    0.001</td>\n",
       "</tr>\n",
       "<tr>\n",
       "  <th>smi:sector[T.Telcm]</th> <td>   -0.0003</td> <td>    0.000</td> <td>   -1.187</td> <td> 0.235</td> <td>   -0.001</td> <td>    0.000</td>\n",
       "</tr>\n",
       "<tr>\n",
       "  <th>smi:sector[T.Utils]</th> <td>-6.588e-05</td> <td>    0.000</td> <td>   -0.274</td> <td> 0.784</td> <td>   -0.001</td> <td>    0.000</td>\n",
       "</tr>\n",
       "</table>\n",
       "<table class=\"simpletable\">\n",
       "<tr>\n",
       "  <th>Omnibus:</th>       <td>3213.124</td> <th>  Durbin-Watson:     </th> <td>   1.882</td> \n",
       "</tr>\n",
       "<tr>\n",
       "  <th>Prob(Omnibus):</th>  <td> 0.000</td>  <th>  Jarque-Bera (JB):  </th> <td>32214.303</td>\n",
       "</tr>\n",
       "<tr>\n",
       "  <th>Skew:</th>           <td> 0.479</td>  <th>  Prob(JB):          </th> <td>    0.00</td> \n",
       "</tr>\n",
       "<tr>\n",
       "  <th>Kurtosis:</th>       <td> 9.191</td>  <th>  Cond. No.          </th> <td>2.23e+03</td> \n",
       "</tr>\n",
       "</table><br/><br/>Warnings:<br/>[1] Standard Errors assume that the covariance matrix of the errors is correctly specified.<br/>[2] The condition number is large, 2.23e+03. This might indicate that there are<br/>strong multicollinearity or other numerical problems."
      ],
      "text/plain": [
       "<class 'statsmodels.iolib.summary.Summary'>\n",
       "\"\"\"\n",
       "                            OLS Regression Results                            \n",
       "==============================================================================\n",
       "Dep. Variable:              ret_0_1_m   R-squared:                       0.015\n",
       "Model:                            OLS   Adj. R-squared:                  0.014\n",
       "Method:                 Least Squares   F-statistic:                     14.70\n",
       "Date:                Wed, 20 Nov 2019   Prob (F-statistic):           1.51e-52\n",
       "Time:                        13:34:51   Log-Likelihood:                 15675.\n",
       "No. Observations:               19702   AIC:                        -3.131e+04\n",
       "Df Residuals:                   19680   BIC:                        -3.113e+04\n",
       "Df Model:                          21                                         \n",
       "Covariance Type:            nonrobust                                         \n",
       "=======================================================================================\n",
       "                          coef    std err          t      P>|t|      [0.025      0.975]\n",
       "---------------------------------------------------------------------------------------\n",
       "Intercept              -0.0023      0.008     -0.277      0.782      -0.018       0.014\n",
       "sector[T.Enrgy]         0.0141      0.011      1.251      0.211      -0.008       0.036\n",
       "sector[T.HiTec]         0.0123      0.009      1.330      0.184      -0.006       0.030\n",
       "sector[T.Hlth]          0.0331      0.010      3.360      0.001       0.014       0.052\n",
       "sector[T.Manuf]        -0.0007      0.009     -0.071      0.943      -0.019       0.017\n",
       "sector[T.Money]         0.0303      0.009      3.320      0.001       0.012       0.048\n",
       "sector[T.NoDur]        -0.0015      0.010     -0.146      0.884      -0.021       0.018\n",
       "sector[T.Other]         0.0062      0.009      0.662      0.508      -0.012       0.024\n",
       "sector[T.Shops]        -0.0070      0.009     -0.748      0.455      -0.025       0.011\n",
       "sector[T.Telcm]         0.0265      0.012      2.264      0.024       0.004       0.049\n",
       "sector[T.Utils]         0.0114      0.012      0.926      0.355      -0.013       0.035\n",
       "smi                     0.0002      0.000      1.488      0.137   -7.77e-05       0.001\n",
       "smi:sector[T.Enrgy] -1.311e-05      0.000     -0.055      0.956      -0.000       0.000\n",
       "smi:sector[T.HiTec]     0.0002      0.000      1.063      0.288      -0.000       0.001\n",
       "smi:sector[T.Hlth]   -4.97e-05      0.000     -0.263      0.793      -0.000       0.000\n",
       "smi:sector[T.Manuf]     0.0001      0.000      0.822      0.411      -0.000       0.000\n",
       "smi:sector[T.Money]    -0.0002      0.000     -1.078      0.281      -0.001       0.000\n",
       "smi:sector[T.NoDur]     0.0002      0.000      0.964      0.335      -0.000       0.001\n",
       "smi:sector[T.Other]  9.117e-05      0.000      0.494      0.621      -0.000       0.000\n",
       "smi:sector[T.Shops]     0.0002      0.000      0.969      0.333      -0.000       0.001\n",
       "smi:sector[T.Telcm]    -0.0003      0.000     -1.187      0.235      -0.001       0.000\n",
       "smi:sector[T.Utils] -6.588e-05      0.000     -0.274      0.784      -0.001       0.000\n",
       "==============================================================================\n",
       "Omnibus:                     3213.124   Durbin-Watson:                   1.882\n",
       "Prob(Omnibus):                  0.000   Jarque-Bera (JB):            32214.303\n",
       "Skew:                           0.479   Prob(JB):                         0.00\n",
       "Kurtosis:                       9.191   Cond. No.                     2.23e+03\n",
       "==============================================================================\n",
       "\n",
       "Warnings:\n",
       "[1] Standard Errors assume that the covariance matrix of the errors is correctly specified.\n",
       "[2] The condition number is large, 2.23e+03. This might indicate that there are\n",
       "strong multicollinearity or other numerical problems.\n",
       "\"\"\""
      ]
     },
     "execution_count": 4,
     "metadata": {},
     "output_type": "execute_result"
    }
   ],
   "source": [
    "m2 = smf.ols('ret_0_1_m ~ smi * sector', data=dat).fit()\n",
    "m2.summary()"
   ]
  },
  {
   "cell_type": "markdown",
   "metadata": {
    "slideshow": {
     "slide_type": "slide"
    }
   },
   "source": [
    "## Easy to switch out for different estimators"
   ]
  },
  {
   "cell_type": "markdown",
   "metadata": {
    "slideshow": {
     "slide_type": "fragment"
    }
   },
   "source": [
    "Try an M-estimator"
   ]
  },
  {
   "cell_type": "code",
   "execution_count": 5,
   "metadata": {
    "slideshow": {
     "slide_type": "fragment"
    }
   },
   "outputs": [
    {
     "data": {
      "text/html": [
       "<table class=\"simpletable\">\n",
       "<caption>Robust linear Model Regression Results</caption>\n",
       "<tr>\n",
       "  <th>Dep. Variable:</th>      <td>ret_0_1_m</td>    <th>  No. Observations:  </th> <td> 27403</td>\n",
       "</tr>\n",
       "<tr>\n",
       "  <th>Model:</th>                 <td>RLM</td>       <th>  Df Residuals:      </th> <td> 27392</td>\n",
       "</tr>\n",
       "<tr>\n",
       "  <th>Method:</th>               <td>IRLS</td>       <th>  Df Model:          </th> <td>    10</td>\n",
       "</tr>\n",
       "<tr>\n",
       "  <th>Norm:</th>                <td>HuberT</td>      <th>                     </th>    <td> </td>  \n",
       "</tr>\n",
       "<tr>\n",
       "  <th>Scale Est.:</th>            <td>mad</td>       <th>                     </th>    <td> </td>  \n",
       "</tr>\n",
       "<tr>\n",
       "  <th>Cov Type:</th>              <td>H1</td>        <th>                     </th>    <td> </td>  \n",
       "</tr>\n",
       "<tr>\n",
       "  <th>Date:</th>           <td>Wed, 20 Nov 2019</td> <th>                     </th>    <td> </td>  \n",
       "</tr>\n",
       "<tr>\n",
       "  <th>Time:</th>               <td>13:34:52</td>     <th>                     </th>    <td> </td>  \n",
       "</tr>\n",
       "<tr>\n",
       "  <th>No. Iterations:</th>        <td>22</td>        <th>                     </th>    <td> </td>  \n",
       "</tr>\n",
       "</table>\n",
       "<table class=\"simpletable\">\n",
       "<tr>\n",
       "         <td></td>            <th>coef</th>     <th>std err</th>      <th>z</th>      <th>P>|z|</th>  <th>[0.025</th>    <th>0.975]</th>  \n",
       "</tr>\n",
       "<tr>\n",
       "  <th>Intercept</th>       <td>    0.0086</td> <td>    0.003</td> <td>    2.633</td> <td> 0.008</td> <td>    0.002</td> <td>    0.015</td>\n",
       "</tr>\n",
       "<tr>\n",
       "  <th>sector[T.Enrgy]</th> <td>    0.0099</td> <td>    0.004</td> <td>    2.263</td> <td> 0.024</td> <td>    0.001</td> <td>    0.019</td>\n",
       "</tr>\n",
       "<tr>\n",
       "  <th>sector[T.HiTec]</th> <td>    0.0227</td> <td>    0.004</td> <td>    6.425</td> <td> 0.000</td> <td>    0.016</td> <td>    0.030</td>\n",
       "</tr>\n",
       "<tr>\n",
       "  <th>sector[T.Hlth]</th>  <td>    0.0237</td> <td>    0.004</td> <td>    6.270</td> <td> 0.000</td> <td>    0.016</td> <td>    0.031</td>\n",
       "</tr>\n",
       "<tr>\n",
       "  <th>sector[T.Manuf]</th> <td>    0.0071</td> <td>    0.004</td> <td>    1.990</td> <td> 0.047</td> <td>    0.000</td> <td>    0.014</td>\n",
       "</tr>\n",
       "<tr>\n",
       "  <th>sector[T.Money]</th> <td>    0.0198</td> <td>    0.003</td> <td>    5.669</td> <td> 0.000</td> <td>    0.013</td> <td>    0.027</td>\n",
       "</tr>\n",
       "<tr>\n",
       "  <th>sector[T.NoDur]</th> <td>    0.0066</td> <td>    0.004</td> <td>    1.663</td> <td> 0.096</td> <td>   -0.001</td> <td>    0.014</td>\n",
       "</tr>\n",
       "<tr>\n",
       "  <th>sector[T.Other]</th> <td>    0.0073</td> <td>    0.004</td> <td>    1.972</td> <td> 0.049</td> <td> 4.44e-05</td> <td>    0.014</td>\n",
       "</tr>\n",
       "<tr>\n",
       "  <th>sector[T.Shops]</th> <td>   -0.0005</td> <td>    0.004</td> <td>   -0.127</td> <td> 0.899</td> <td>   -0.008</td> <td>    0.007</td>\n",
       "</tr>\n",
       "<tr>\n",
       "  <th>sector[T.Telcm]</th> <td>    0.0106</td> <td>    0.004</td> <td>    2.450</td> <td> 0.014</td> <td>    0.002</td> <td>    0.019</td>\n",
       "</tr>\n",
       "<tr>\n",
       "  <th>sector[T.Utils]</th> <td>    0.0092</td> <td>    0.004</td> <td>    2.258</td> <td> 0.024</td> <td>    0.001</td> <td>    0.017</td>\n",
       "</tr>\n",
       "</table><br/><br/>If the model instance has been used for another fit with different fit<br/>parameters, then the fit options might not be the correct ones anymore ."
      ],
      "text/plain": [
       "<class 'statsmodels.iolib.summary.Summary'>\n",
       "\"\"\"\n",
       "                    Robust linear Model Regression Results                    \n",
       "==============================================================================\n",
       "Dep. Variable:              ret_0_1_m   No. Observations:                27403\n",
       "Model:                            RLM   Df Residuals:                    27392\n",
       "Method:                          IRLS   Df Model:                           10\n",
       "Norm:                          HuberT                                         \n",
       "Scale Est.:                       mad                                         \n",
       "Cov Type:                          H1                                         \n",
       "Date:                Wed, 20 Nov 2019                                         \n",
       "Time:                        13:34:52                                         \n",
       "No. Iterations:                    22                                         \n",
       "===================================================================================\n",
       "                      coef    std err          z      P>|z|      [0.025      0.975]\n",
       "-----------------------------------------------------------------------------------\n",
       "Intercept           0.0086      0.003      2.633      0.008       0.002       0.015\n",
       "sector[T.Enrgy]     0.0099      0.004      2.263      0.024       0.001       0.019\n",
       "sector[T.HiTec]     0.0227      0.004      6.425      0.000       0.016       0.030\n",
       "sector[T.Hlth]      0.0237      0.004      6.270      0.000       0.016       0.031\n",
       "sector[T.Manuf]     0.0071      0.004      1.990      0.047       0.000       0.014\n",
       "sector[T.Money]     0.0198      0.003      5.669      0.000       0.013       0.027\n",
       "sector[T.NoDur]     0.0066      0.004      1.663      0.096      -0.001       0.014\n",
       "sector[T.Other]     0.0073      0.004      1.972      0.049    4.44e-05       0.014\n",
       "sector[T.Shops]    -0.0005      0.004     -0.127      0.899      -0.008       0.007\n",
       "sector[T.Telcm]     0.0106      0.004      2.450      0.014       0.002       0.019\n",
       "sector[T.Utils]     0.0092      0.004      2.258      0.024       0.001       0.017\n",
       "===================================================================================\n",
       "\n",
       "If the model instance has been used for another fit with different fit\n",
       "parameters, then the fit options might not be the correct ones anymore .\n",
       "\"\"\""
      ]
     },
     "execution_count": 5,
     "metadata": {},
     "output_type": "execute_result"
    }
   ],
   "source": [
    "m3 = smf.rlm('ret_0_1_m ~ sector', data=dat).fit()\n",
    "m3.summary()"
   ]
  },
  {
   "cell_type": "markdown",
   "metadata": {
    "slideshow": {
     "slide_type": "slide"
    }
   },
   "source": [
    "# Questions?"
   ]
  }
 ],
 "metadata": {
  "celltoolbar": "Slideshow",
  "kernelspec": {
   "display_name": "Python 3",
   "language": "python",
   "name": "python3"
  },
  "language_info": {
   "codemirror_mode": {
    "name": "ipython",
    "version": 3
   },
   "file_extension": ".py",
   "mimetype": "text/x-python",
   "name": "python",
   "nbconvert_exporter": "python",
   "pygments_lexer": "ipython3",
   "version": "3.7.5"
  }
 },
 "nbformat": 4,
 "nbformat_minor": 1
}
